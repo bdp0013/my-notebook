{
 "cells": [
  {
   "cell_type": "markdown",
   "id": "e3c762ea-c955-4b47-a131-a792ada9750d",
   "metadata": {},
   "source": [
    "# Data Science Tools & Eco System\n",
    "\n"
   ]
  },
  {
   "cell_type": "markdown",
   "id": "4fdfc736-7633-430e-9314-6c29ac06c622",
   "metadata": {},
   "source": [
    "In this notebook, Data Science Tools and Ecosystem are summarized."
   ]
  },
  {
   "cell_type": "markdown",
   "id": "e16874e6-1f43-4c1d-abac-efca4c2fbc82",
   "metadata": {},
   "source": [
    "Some of the commonly used popular languages are:\n",
    "\n",
    "1. Python\n",
    "2. Rubi\n",
    "3. SQL"
   ]
  },
  {
   "cell_type": "markdown",
   "id": "ede327f6-68a4-4f77-844e-d19c5e001d68",
   "metadata": {},
   "source": [
    "Some of the commonly used libraries used by Data Scientists include:\n",
    "1. Pandas\n",
    "2. Numpy\n",
    "3. Metplotlib\n",
    "4. SciKit-Learn"
   ]
  },
  {
   "cell_type": "markdown",
   "id": "ce8117e8-c4fa-434a-8d99-aba5c045268e",
   "metadata": {},
   "source": [
    "| Data Science Tools      |\n",
    "|-------------------------|\n",
    "| Jupyter Notebooks        |\n",
    "| Apache Zeppelin          |\n",
    "| RStudio                  |\n",
    "\n",
    " "
   ]
  },
  {
   "cell_type": "markdown",
   "id": "53ae6f36-9605-4529-8b33-aa2842f1daf1",
   "metadata": {},
   "source": [
    "### Below are a few examples of evaluating arithmetic expressions in Python.\n",
    "\n",
    "Arithmetic expressions in Python involve the use of operators such as `+`, `-`, `*`, `/`, and more. Here are some examples:\n",
    "\n",
    "1. **Addition**  \n",
    "   ```python\n",
    "   5 + 3  # Output: 8\n",
    "\n"
   ]
  },
  {
   "cell_type": "code",
   "execution_count": 6,
   "id": "40ae85d1-3afd-4b60-8822-30dbdcf979d8",
   "metadata": {},
   "outputs": [
    {
     "data": {
      "text/plain": [
       "17"
      ]
     },
     "execution_count": 6,
     "metadata": {},
     "output_type": "execute_result"
    }
   ],
   "source": [
    "(3*4)+5\n"
   ]
  },
  {
   "cell_type": "code",
   "execution_count": 7,
   "id": "fa76f040-3853-414e-8407-9e3247e7dd1c",
   "metadata": {},
   "outputs": [
    {
     "data": {
      "text/plain": [
       "3.3333333333333335"
      ]
     },
     "execution_count": 7,
     "metadata": {},
     "output_type": "execute_result"
    }
   ],
   "source": [
    "# This will convert 200 minutes to hours by dividing by 60\n",
    "minutes = 200\n",
    "hours = minutes / 60\n",
    "hours\n",
    "\n"
   ]
  },
  {
   "cell_type": "markdown",
   "id": "c27b540a-6235-4a65-8f08-4eea5779ac33",
   "metadata": {},
   "source": [
    "**Objectives:**\n",
    "\n",
    "- Understand the importance of Data Science and its role in various industries.\n",
    "- List popular programming languages for Data Science (e.g., Python, R, SQL).\n",
    "- Learn about key Data Science tools and libraries (e.g., Pandas, NumPy, Matplotlib).\n",
    "- Understand the different stages of a Data Science project (e.g., data collection, cleaning, analysis).\n",
    "- Recognize the importance of data visualization in conveying insights.\n"
   ]
  },
  {
   "cell_type": "markdown",
   "id": "ca97162c-658e-4667-96d9-2332d52135c1",
   "metadata": {},
   "source": [
    "## Author\n",
    "Bipradash Pandit\n"
   ]
  },
  {
   "cell_type": "code",
   "execution_count": null,
   "id": "d8183aa1-ae0e-4878-b8d4-ac19e87e6b55",
   "metadata": {},
   "outputs": [],
   "source": []
  }
 ],
 "metadata": {
  "kernelspec": {
   "display_name": "Python 3 (ipykernel)",
   "language": "python",
   "name": "python3"
  },
  "language_info": {
   "codemirror_mode": {
    "name": "ipython",
    "version": 3
   },
   "file_extension": ".py",
   "mimetype": "text/x-python",
   "name": "python",
   "nbconvert_exporter": "python",
   "pygments_lexer": "ipython3",
   "version": "3.11.9"
  }
 },
 "nbformat": 4,
 "nbformat_minor": 5
}
